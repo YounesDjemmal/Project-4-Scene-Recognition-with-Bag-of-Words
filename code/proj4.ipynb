{
 "cells": [
  {
   "cell_type": "markdown",
   "metadata": {},
   "source": [
    "\n",
    "# Scene Recognition with Bag-of-Words\n",
    "For this project, you will need to report performance for two\n",
    "combinations of features / classifiers. It is suggested you code them in\n",
    "this order, as well:\n",
    "1. Nearest neighbor classifier\n",
    "2. Bag of sift features and nearest neighbor classifier"
   ]
  },
  {
   "cell_type": "markdown",
   "metadata": {},
   "source": [
    "## Setup"
   ]
  },
  {
   "cell_type": "code",
   "execution_count": 1,
   "metadata": {
    "pycharm": {
     "is_executing": true
    }
   },
   "outputs": [],
   "source": [
    "# Set up parameters, image paths and category list\n",
    "%matplotlib inline\n",
    "%load_ext autoreload\n",
    "%autoreload 2\n",
    "\n",
    "# import cv2\n",
    "import numpy as np\n",
    "import os.path as osp\n",
    "import pickle\n",
    "from random import shuffle\n",
    "import matplotlib.pyplot as plt\n",
    "from proj4_code.utils import *\n",
    "import proj4_code.student_code as sc\n",
    "\n",
    "# Importing tests\n",
    "from proj4_unit_tests.test_student_code import (test_build_vocabulary_shape,\n",
    "    test_build_vocabulary_values, test_get_bags_of_sifts,\n",
    "    test_kmeans_quantize_exact_matches, test_kmeans_quantize_noisy_continuous, \n",
    "    test_kmeans_2_classes_1d_features, test_kmeans_5_classes_2d_features,\n",
    "    test_nearest_neighbor_classify,\n",
    "    test_nearest_neighbor_classify_k, verify, test_pairwise_distances)\n",
    "\n",
    "# This is the list of categories / directories to use. The categories are\n",
    "# somewhat sorted by similarity so that the confusion matrix looks more\n",
    "# structured (indoor and then urban and then rural).\n",
    "categories = ['Kitchen', 'Store', 'Bedroom', 'LivingRoom', 'Office', 'Industrial', 'Suburb',\n",
    "              'InsideCity', 'TallBuilding', 'Street', 'Highway', 'OpenCountry', 'Coast',\n",
    "              'Mountain', 'Forest'];\n",
    "# This list of shortened category names is used later for visualization\n",
    "abbr_categories = ['Kit', 'Sto', 'Bed', 'Liv', 'Off', 'Ind', 'Sub',\n",
    "                   'Cty', 'Bld', 'St', 'HW', 'OC', 'Cst',\n",
    "                   'Mnt', 'For'];\n",
    "\n",
    "# Number of training examples per category to use. Max is 100. For\n",
    "# simplicity, we assume this is the number of test cases per category, as\n",
    "# well.\n",
    "num_train_per_cat = 100\n",
    "\n",
    "# This function returns lists containing the file path for each train\n",
    "# and test image, as well as lists with the label of each train and\n",
    "# test image. By default all four of these lists will have 1500 elements\n",
    "# where each element is a string.\n",
    "data_path = osp.join('..', 'data')\n",
    "# train_image_paths, test_image_paths, train_labels, test_labels = get_image_paths(data_path,\n",
    "#                                                                                  categories,\n",
    "#                                                                                  num_train_per_cat);\n",
    "train_image_arrays, test_image_arrays, train_labels, test_labels = get_image_arrays(data_path,\n",
    "                                                                                 categories,\n",
    "                                                                               num_train_per_cat)\n",
    "if len(train_image_arrays) == 0:\n",
    "    print(data_path, 'not found')"
   ]
  },
  {
   "cell_type": "markdown",
   "metadata": {},
   "source": [
    "## Section 1: Tiny Image features with Nearest Neighbor classifier"
   ]
  },
  {
   "cell_type": "markdown",
   "metadata": {},
   "source": [
    "### Section 1a: Pairwise distances\n",
    "\n",
    "In order to perform nearest neighbor classification, we'll need a distance metric. In `pairwise_distances()` you'll be implementing a Euclidean distance method. Recall that in 2D, the Euclidean distance between two vectors $X = [x_1, x_2]$ and $Y = [y_1, y_2]$ is defined as\n",
    "\n",
    "$$dist(X, Y) = \\sqrt{(y_1 - x_1)^2 + (y_2 - x_2)^2}$$"
   ]
  },
  {
   "cell_type": "code",
   "execution_count": 2,
   "metadata": {
    "pycharm": {
     "is_executing": true
    }
   },
   "outputs": [
    {
     "name": "stdout",
     "output_type": "stream",
     "text": [
      "test_pairwise_distances():\u001b[32m\"Correct\"\u001b[0m\n"
     ]
    }
   ],
   "source": [
    "print(\"test_pairwise_distances():\" + verify(test_pairwise_distances))"
   ]
  },
  {
   "cell_type": "markdown",
   "metadata": {},
   "source": [
    "### Section 1a: Represent each image with the Tiny Image feature\n",
    "\n",
    "Each function to construct features should return an N x d numpy array, where N is the number of paths passed to the function and d is the dimensionality of each image representation. See the code in utils.py for more details."
   ]
  },
  {
   "cell_type": "code",
   "execution_count": 3,
   "metadata": {
    "pycharm": {
     "is_executing": true
    }
   },
   "outputs": [
    {
     "name": "stdout",
     "output_type": "stream",
     "text": [
      "Using the TINY IMAGE representation for images\n",
      "(1500, 256) (1500, 256)\n"
     ]
    }
   ],
   "source": [
    "print('Using the TINY IMAGE representation for images')\n",
    "\n",
    "size = 16\n",
    "train_image_feats = get_tiny_images(train_image_arrays, size)\n",
    "test_image_feats = get_tiny_images(test_image_arrays, size)\n",
    "\n",
    "print(train_image_feats.shape, test_image_feats.shape)"
   ]
  },
  {
   "cell_type": "markdown",
   "metadata": {},
   "source": [
    "### Section 1b: Classify each test image by training and using the Nearest Neighbor classifier\n",
    "\n",
    "To run the following cells you will need to implement the nearest neighbor classifier. See the function stub for details.\n",
    "\n",
    "Each function to classify test features will return an N element list, where N is the number of test cases and each entry is a string indicating the predicted category for each test image. Each entry in 'predicted_categories' must be one of the 15 strings in 'categories'. See the starter code for each function for more details."
   ]
  },
  {
   "cell_type": "code",
   "execution_count": 4,
   "metadata": {
    "pycharm": {
     "is_executing": true
    }
   },
   "outputs": [
    {
     "name": "stdout",
     "output_type": "stream",
     "text": [
      "tnaket2\n",
      "[0.0, 0.0, 0.0]\n",
      "test_nearest_neighbor_classify()\u001b[31m\"Wrong\"\u001b[0m\n",
      "tnaket2\n",
      "[0]\n",
      "test_nearest_neighbor_classify_k()\u001b[32m\"Correct\"\u001b[0m\n"
     ]
    }
   ],
   "source": [
    "# Test cases for nearest neighbor classify\n",
    "print(\"test_nearest_neighbor_classify()\" + verify(test_nearest_neighbor_classify))\n",
    "print(\"test_nearest_neighbor_classify_k()\" + verify(test_nearest_neighbor_classify_k))"
   ]
  },
  {
   "cell_type": "markdown",
   "metadata": {},
   "source": [
    "### Experiments\n",
    "Vary `size` and `k` to run your experiments\n",
    "\n",
    "If we wanted to evaluate our recognition method properly we would train\n",
    "and test on many random splits of the data. You are not required to do so\n",
    "for this project.\n",
    "\n",
    "`show_results()` function will create a confusion matrix each time it is called. It will save the confusion matrix figure in the location specified.\n",
    "\n",
    "View the confusion matrix to help interpret your classifier performance. Where is it making mistakes? Are the confusions reasonable?\n",
    "\n",
    "Interpreting your performance with 100 training examples per category:\n",
    "- accuracy  =   0 -> Your code is broken (probably not the classifier's fault! A classifier would have to be amazing to perform this badly).\n",
    "- accuracy ~= .07 -> Your performance is chance. Something is broken or you ran the starter code unchanged.\n",
    "- accuracy ~= .15 ~ .20 -> Rough performance with tiny images and nearest neighbor classifier. Performance goes up a few percentage points with K-NN instead of 1-NN."
   ]
  },
  {
   "cell_type": "code",
   "execution_count": 9,
   "metadata": {
    "pycharm": {
     "is_executing": true
    }
   },
   "outputs": [
    {
     "name": "stdout",
     "output_type": "stream",
     "text": [
      "Using NEAREST NEIGHBOR classifier to predict test set categories\n",
      "tnaket2\n",
      "['LivingRoom', 'Highway', 'Highway', 'Street', 'Coast', 'Coast', 'Bedroom', 'OpenCountry', 'Suburb', 'Kitchen', 'Bedroom', 'Bedroom', 'OpenCountry', 'Coast', 'LivingRoom', 'Industrial', 'Coast', 'Mountain', 'Bedroom', 'Street', 'Mountain', 'Suburb', 'Bedroom', 'Suburb', 'Coast', 'Highway', 'Mountain', 'Bedroom', 'Office', 'Industrial', 'Coast', 'Coast', 'Office', 'Mountain', 'Industrial', 'Coast', 'Industrial', 'Street', 'Bedroom', 'Coast', 'OpenCountry', 'Coast', 'Bedroom', 'Bedroom', 'OpenCountry', 'Street', 'Coast', 'Bedroom', 'OpenCountry', 'Bedroom', 'Mountain', 'Kitchen', 'Coast', 'Industrial', 'OpenCountry', 'Coast', 'Street', 'Mountain', 'TallBuilding', 'Kitchen', 'Bedroom', 'Coast', 'Bedroom', 'Highway', 'TallBuilding', 'Highway', 'LivingRoom', 'InsideCity', 'Bedroom', 'Kitchen', 'Coast', 'Kitchen', 'Street', 'Coast', 'Mountain', 'Street', 'Coast', 'Kitchen', 'Bedroom', 'Highway', 'Bedroom', 'Coast', 'Highway', 'Highway', 'Street', 'LivingRoom', 'Mountain', 'Industrial', 'Industrial', 'Street', 'Bedroom', 'Forest', 'Store', 'Bedroom', 'Highway', 'Bedroom', 'Coast', 'Bedroom', 'Highway', 'OpenCountry', 'Kitchen', 'Street', 'Street', 'Suburb', 'OpenCountry', 'Mountain', 'TallBuilding', 'Coast', 'InsideCity', 'Coast', 'OpenCountry', 'InsideCity', 'OpenCountry', 'Highway', 'InsideCity', 'Coast', 'Coast', 'Coast', 'Mountain', 'Street', 'Forest', 'Bedroom', 'LivingRoom', 'Forest', 'Coast', 'Coast', 'Coast', 'Bedroom', 'Kitchen', 'Coast', 'Street', 'Forest', 'Coast', 'OpenCountry', 'Coast', 'Bedroom', 'LivingRoom', 'TallBuilding', 'TallBuilding', 'Suburb', 'Industrial', 'InsideCity', 'TallBuilding', 'Bedroom', 'Coast', 'LivingRoom', 'Highway', 'Coast', 'Coast', 'Bedroom', 'InsideCity', 'Street', 'Highway', 'Coast', 'Coast', 'OpenCountry', 'Industrial', 'Coast', 'Forest', 'Bedroom', 'Coast', 'TallBuilding', 'Coast', 'Coast', 'Forest', 'Highway', 'OpenCountry', 'Bedroom', 'OpenCountry', 'OpenCountry', 'Suburb', 'Highway', 'Coast', 'Highway', 'Office', 'Suburb', 'Bedroom', 'Kitchen', 'Mountain', 'Coast', 'Suburb', 'OpenCountry', 'Bedroom', 'Forest', 'Street', 'OpenCountry', 'LivingRoom', 'Street', 'InsideCity', 'Suburb', 'Highway', 'Mountain', 'Highway', 'Kitchen', 'Coast', 'Highway', 'Bedroom', 'Coast', 'Mountain', 'OpenCountry', 'Highway', 'Highway', 'Coast', 'Bedroom', 'Suburb', 'Bedroom', 'Industrial', 'Bedroom', 'Coast', 'Highway', 'Mountain', 'Highway', 'Coast', 'Highway', 'Bedroom', 'InsideCity', 'Bedroom', 'Coast', 'TallBuilding', 'Mountain', 'Office', 'Highway', 'Coast', 'OpenCountry', 'Street', 'Coast', 'Highway', 'Highway', 'Coast', 'Mountain', 'Highway', 'Highway', 'Coast', 'Highway', 'Street', 'Highway', 'Bedroom', 'Coast', 'Bedroom', 'Suburb', 'Coast', 'Industrial', 'TallBuilding', 'Bedroom', 'OpenCountry', 'Bedroom', 'LivingRoom', 'Coast', 'Coast', 'Mountain', 'Highway', 'Suburb', 'Office', 'Bedroom', 'Coast', 'Street', 'Highway', 'Coast', 'Highway', 'Suburb', 'TallBuilding', 'Bedroom', 'Highway', 'Coast', 'Highway', 'Bedroom', 'Highway', 'Industrial', 'Coast', 'Industrial', 'Coast', 'Industrial', 'Highway', 'Bedroom', 'Coast', 'Highway', 'Coast', 'Bedroom', 'TallBuilding', 'TallBuilding', 'Suburb', 'Highway', 'Bedroom', 'Coast', 'Street', 'Office', 'Street', 'Coast', 'LivingRoom', 'Mountain', 'Office', 'Bedroom', 'Highway', 'Highway', 'Coast', 'Bedroom', 'Street', 'Coast', 'Coast', 'Bedroom', 'Coast', 'Coast', 'InsideCity', 'Mountain', 'Kitchen', 'Bedroom', 'Coast', 'Kitchen', 'Bedroom', 'LivingRoom', 'Coast', 'Coast', 'Highway', 'Highway', 'Suburb', 'LivingRoom', 'Coast', 'LivingRoom', 'OpenCountry', 'Bedroom', 'Highway', 'Street', 'Coast', 'Highway', 'Office', 'Coast', 'Highway', 'Forest', 'Bedroom', 'Highway', 'Coast', 'Forest', 'Mountain', 'Suburb', 'InsideCity', 'Highway', 'Bedroom', 'Forest', 'Highway', 'Industrial', 'Bedroom', 'Bedroom', 'Bedroom', 'Office', 'Coast', 'Office', 'OpenCountry', 'Highway', 'Street', 'Bedroom', 'Coast', 'Highway', 'OpenCountry', 'Coast', 'Coast', 'Bedroom', 'Bedroom', 'Bedroom', 'Kitchen', 'Coast', 'Bedroom', 'OpenCountry', 'Bedroom', 'Bedroom', 'Street', 'Mountain', 'Highway', 'Coast', 'Street', 'Kitchen', 'Street', 'Highway', 'Forest', 'LivingRoom', 'Coast', 'Street', 'Highway', 'TallBuilding', 'Street', 'Highway', 'Highway', 'Suburb', 'Office', 'Street', 'Bedroom', 'Highway', 'Office', 'Street', 'OpenCountry', 'Industrial', 'Forest', 'Street', 'Industrial', 'Forest', 'Street', 'Forest', 'Suburb', 'OpenCountry', 'Bedroom', 'Mountain', 'OpenCountry', 'Industrial', 'Office', 'Coast', 'Bedroom', 'Mountain', 'Office', 'Bedroom', 'Kitchen', 'Bedroom', 'Bedroom', 'Coast', 'Highway', 'Industrial', 'Highway', 'Suburb', 'Office', 'Highway', 'Industrial', 'Mountain', 'Bedroom', 'Highway', 'Coast', 'Kitchen', 'Coast', 'Mountain', 'OpenCountry', 'Highway', 'Forest', 'Bedroom', 'Highway', 'Industrial', 'TallBuilding', 'TallBuilding', 'Highway', 'TallBuilding', 'Bedroom', 'Bedroom', 'Highway', 'Office', 'TallBuilding', 'Highway', 'Coast', 'Industrial', 'Office', 'Bedroom', 'Coast', 'Suburb', 'Forest', 'Highway', 'Suburb', 'Street', 'Bedroom', 'LivingRoom', 'Highway', 'Coast', 'Bedroom', 'Highway', 'LivingRoom', 'Highway', 'Bedroom', 'Highway', 'Bedroom', 'Mountain', 'Street', 'Bedroom', 'Kitchen', 'Coast', 'Coast', 'Bedroom', 'Forest', 'Office', 'OpenCountry', 'Coast', 'LivingRoom', 'Coast', 'Bedroom', 'Highway', 'Highway', 'Street', 'Street', 'Bedroom', 'Highway', 'Bedroom', 'Coast', 'Street', 'Highway', 'Mountain', 'Coast', 'Highway', 'Bedroom', 'Highway', 'Coast', 'Coast', 'Industrial', 'Highway', 'Highway', 'Highway', 'Highway', 'Kitchen', 'InsideCity', 'OpenCountry', 'Industrial', 'Highway', 'OpenCountry', 'Coast', 'Coast', 'Coast', 'Suburb', 'Street', 'Bedroom', 'Highway', 'Highway', 'OpenCountry', 'Highway', 'Coast', 'Kitchen', 'Coast', 'Highway', 'Coast', 'Highway', 'Mountain', 'Highway', 'Highway', 'Coast', 'OpenCountry', 'LivingRoom', 'InsideCity', 'Suburb', 'Coast', 'Highway', 'OpenCountry', 'OpenCountry', 'TallBuilding', 'OpenCountry', 'Coast', 'OpenCountry', 'Coast', 'Highway', 'OpenCountry', 'Coast', 'Suburb', 'Highway', 'Mountain', 'Street', 'Coast', 'TallBuilding', 'Highway', 'Highway', 'Highway', 'Coast', 'Coast', 'Coast', 'Mountain', 'Coast', 'Coast', 'Highway', 'Mountain', 'Highway', 'Coast', 'Coast', 'Coast', 'Suburb', 'Coast', 'Coast', 'Highway', 'Coast', 'Coast', 'Highway', 'Bedroom', 'Suburb', 'Coast', 'Suburb', 'OpenCountry', 'OpenCountry', 'Highway', 'Coast', 'OpenCountry', 'Coast', 'Highway', 'TallBuilding', 'TallBuilding', 'Highway', 'OpenCountry', 'Highway', 'Highway', 'Coast', 'Highway', 'Bedroom', 'TallBuilding', 'Highway', 'Mountain', 'Industrial', 'Highway', 'OpenCountry', 'Street', 'TallBuilding', 'Highway', 'Mountain', 'Industrial', 'Suburb', 'Kitchen', 'Industrial', 'InsideCity', 'Suburb', 'Highway', 'Suburb', 'Suburb', 'Suburb', 'Highway', 'Suburb', 'Suburb', 'OpenCountry', 'Street', 'OpenCountry', 'Suburb', 'Street', 'Suburb', 'Suburb', 'Suburb', 'Suburb', 'Suburb', 'Highway', 'Suburb', 'Street', 'Highway', 'Suburb', 'Suburb', 'Suburb', 'Street', 'Highway', 'Suburb', 'Forest', 'InsideCity', 'Suburb', 'Street', 'Suburb', 'Suburb', 'InsideCity', 'Suburb', 'Suburb', 'Suburb', 'Street', 'Suburb', 'Suburb', 'Suburb', 'Coast', 'Bedroom', 'OpenCountry', 'Highway', 'Suburb', 'Highway', 'Highway', 'OpenCountry', 'Street', 'Suburb', 'Bedroom', 'Suburb', 'Highway', 'Street', 'Suburb', 'Coast', 'Suburb', 'Suburb', 'Suburb', 'Street', 'Suburb', 'Suburb', 'LivingRoom', 'Bedroom', 'Suburb', 'InsideCity', 'Bedroom', 'Street', 'Bedroom', 'Bedroom', 'Mountain', 'Suburb', 'Suburb', 'Coast', 'OpenCountry', 'Forest', 'Highway', 'Highway', 'Suburb', 'Coast', 'Suburb', 'Suburb', 'Suburb', 'Suburb', 'Suburb', 'Suburb', 'Highway', 'Suburb', 'Bedroom', 'Coast', 'OpenCountry', 'Coast', 'Street', 'Suburb', 'InsideCity', 'Coast', 'OpenCountry', 'Industrial', 'OpenCountry', 'Highway', 'Highway', 'OpenCountry', 'TallBuilding', 'OpenCountry', 'Highway', 'Highway', 'Mountain', 'Coast', 'Mountain', 'Highway', 'TallBuilding', 'Bedroom', 'Forest', 'InsideCity', 'Suburb', 'InsideCity', 'OpenCountry', 'Coast', 'Coast', 'Coast', 'TallBuilding', 'InsideCity', 'InsideCity', 'TallBuilding', 'Bedroom', 'Street', 'Industrial', 'Industrial', 'InsideCity', 'Coast', 'Industrial', 'Forest', 'OpenCountry', 'OpenCountry', 'Bedroom', 'Coast', 'Suburb', 'OpenCountry', 'Highway', 'Industrial', 'Coast', 'Suburb', 'OpenCountry', 'InsideCity', 'OpenCountry', 'Bedroom', 'Bedroom', 'Mountain', 'InsideCity', 'Highway', 'OpenCountry', 'Bedroom', 'Highway', 'Street', 'Coast', 'Kitchen', 'Industrial', 'Forest', 'Industrial', 'OpenCountry', 'Kitchen', 'Street', 'Street', 'Suburb', 'Forest', 'Highway', 'OpenCountry', 'Suburb', 'Bedroom', 'Coast', 'Street', 'Coast', 'Coast', 'Office', 'OpenCountry', 'Bedroom', 'OpenCountry', 'Industrial', 'OpenCountry', 'OpenCountry', 'Highway', 'Suburb', 'Suburb', 'Coast', 'Highway', 'Street', 'Bedroom', 'Suburb', 'Coast', 'Forest', 'Coast', 'Suburb', 'Suburb', 'Coast', 'TallBuilding', 'Coast', 'Coast', 'Highway', 'Highway', 'LivingRoom', 'LivingRoom', 'OpenCountry', 'Bedroom', 'Highway', 'LivingRoom', 'Bedroom', 'Mountain', 'Street', 'Highway', 'Highway', 'Office', 'Highway', 'Coast', 'Industrial', 'Coast', 'Coast', 'Bedroom', 'Coast', 'OpenCountry', 'OpenCountry', 'Coast', 'Bedroom', 'LivingRoom', 'Suburb', 'Office', 'Kitchen', 'Coast', 'Coast', 'Coast', 'Coast', 'Highway', 'Mountain', 'Mountain', 'Industrial', 'Street', 'Highway', 'Bedroom', 'Bedroom', 'OpenCountry', 'Street', 'Coast', 'Street', 'OpenCountry', 'Coast', 'Highway', 'TallBuilding', 'Mountain', 'Highway', 'Bedroom', 'TallBuilding', 'Highway', 'OpenCountry', 'Coast', 'Bedroom', 'TallBuilding', 'Coast', 'Mountain', 'OpenCountry', 'Coast', 'Bedroom', 'Mountain', 'Coast', 'TallBuilding', 'Suburb', 'OpenCountry', 'Highway', 'Mountain', 'LivingRoom', 'Highway', 'TallBuilding', 'Mountain', 'Industrial', 'InsideCity', 'Office', 'Office', 'Bedroom', 'Bedroom', 'Coast', 'TallBuilding', 'Mountain', 'Coast', 'Bedroom', 'Highway', 'Bedroom', 'OpenCountry', 'Mountain', 'Coast', 'LivingRoom', 'Mountain', 'Coast', 'Coast', 'Highway', 'Coast', 'Highway', 'Coast', 'Street', 'Street', 'Street', 'OpenCountry', 'Street', 'Office', 'Street', 'Street', 'Street', 'OpenCountry', 'Bedroom', 'Bedroom', 'InsideCity', 'Street', 'Highway', 'Suburb', 'OpenCountry', 'Street', 'Street', 'Mountain', 'Street', 'Coast', 'Street', 'Suburb', 'Highway', 'OpenCountry', 'Forest', 'Street', 'Coast', 'Street', 'OpenCountry', 'Street', 'Street', 'Street', 'OpenCountry', 'Street', 'Street', 'Mountain', 'Suburb', 'OpenCountry', 'Suburb', 'Street', 'Coast', 'Suburb', 'Industrial', 'Street', 'Street', 'Street', 'OpenCountry', 'OpenCountry', 'Coast', 'Coast', 'Street', 'Street', 'Street', 'Street', 'Coast', 'OpenCountry', 'Street', 'Suburb', 'Street', 'Bedroom', 'Bedroom', 'Industrial', 'Street', 'Suburb', 'Street', 'Street', 'Kitchen', 'Street', 'Street', 'Suburb', 'Street', 'Street', 'Street', 'Highway', 'Street', 'Street', 'Street', 'Street', 'Street', 'Street', 'Street', 'Street', 'Coast', 'Suburb', 'OpenCountry', 'OpenCountry', 'Coast', 'Street', 'OpenCountry', 'Street', 'Street', 'Street', 'Street', 'Industrial', 'Street', 'Street', 'Coast', 'Coast', 'Highway', 'Highway', 'Highway', 'Highway', 'Highway', 'Highway', 'Bedroom', 'Highway', 'Highway', 'OpenCountry', 'Coast', 'Coast', 'OpenCountry', 'Highway', 'Highway', 'Highway', 'OpenCountry', 'Highway', 'Highway', 'OpenCountry', 'Coast', 'OpenCountry', 'Highway', 'Highway', 'Highway', 'Highway', 'Coast', 'Highway', 'OpenCountry', 'Coast', 'Coast', 'Suburb', 'Highway', 'Coast', 'Highway', 'Bedroom', 'Highway', 'Highway', 'Highway', 'Coast', 'Highway', 'OpenCountry', 'Highway', 'Highway', 'Highway', 'Highway', 'Highway', 'Highway', 'Highway', 'Highway', 'Coast', 'Highway', 'Highway', 'OpenCountry', 'Highway', 'Mountain', 'Highway', 'Highway', 'Highway', 'Highway', 'Highway', 'Highway', 'Highway', 'Highway', 'Highway', 'Highway', 'Highway', 'Highway', 'Suburb', 'OpenCountry', 'Highway', 'Highway', 'OpenCountry', 'Highway', 'OpenCountry', 'Highway', 'Highway', 'Highway', 'OpenCountry', 'Highway', 'Highway', 'Highway', 'Highway', 'Highway', 'Coast', 'Highway', 'Highway', 'Highway', 'Industrial', 'Highway', 'Suburb', 'Highway', 'Highway', 'OpenCountry', 'Highway', 'Highway', 'Highway', 'Highway', 'Highway', 'Highway', 'Coast', 'Coast', 'Coast', 'OpenCountry', 'OpenCountry', 'Suburb', 'OpenCountry', 'Highway', 'Mountain', 'OpenCountry', 'Coast', 'OpenCountry', 'InsideCity', 'OpenCountry', 'InsideCity', 'Coast', 'Coast', 'Coast', 'Coast', 'OpenCountry', 'Coast', 'InsideCity', 'Highway', 'Highway', 'LivingRoom', 'Highway', 'Coast', 'Highway', 'OpenCountry', 'Highway', 'Mountain', 'Highway', 'Highway', 'Coast', 'Coast', 'Coast', 'Coast', 'OpenCountry', 'Highway', 'InsideCity', 'OpenCountry', 'Forest', 'OpenCountry', 'OpenCountry', 'Mountain', 'LivingRoom', 'OpenCountry', 'OpenCountry', 'OpenCountry', 'Street', 'Highway', 'OpenCountry', 'Coast', 'Highway', 'Street', 'Bedroom', 'Highway', 'Coast', 'InsideCity', 'InsideCity', 'OpenCountry', 'OpenCountry', 'Highway', 'Coast', 'Coast', 'Highway', 'Coast', 'Highway', 'OpenCountry', 'Coast', 'Highway', 'OpenCountry', 'OpenCountry', 'Highway', 'Coast', 'Coast', 'InsideCity', 'Coast', 'Coast', 'InsideCity', 'OpenCountry', 'OpenCountry', 'OpenCountry', 'InsideCity', 'Coast', 'Highway', 'Highway', 'Forest', 'Highway', 'OpenCountry', 'Industrial', 'Highway', 'Coast', 'Highway', 'InsideCity', 'Coast', 'InsideCity', 'Mountain', 'Coast', 'Highway', 'InsideCity', 'Coast', 'Highway', 'Highway', 'Highway', 'Highway', 'Highway', 'OpenCountry', 'OpenCountry', 'Highway', 'OpenCountry', 'Mountain', 'OpenCountry', 'Coast', 'Coast', 'Coast', 'Highway', 'Coast', 'Industrial', 'OpenCountry', 'Highway', 'Highway', 'Highway', 'Highway', 'Highway', 'OpenCountry', 'Highway', 'Highway', 'Coast', 'Coast', 'Coast', 'Forest', 'Highway', 'OpenCountry', 'Mountain', 'Mountain', 'Highway', 'Highway', 'OpenCountry', 'OpenCountry', 'Highway', 'Coast', 'Mountain', 'Suburb', 'Street', 'Coast', 'Coast', 'OpenCountry', 'Coast', 'Coast', 'Coast', 'Highway', 'Coast', 'Bedroom', 'Street', 'Highway', 'Highway', 'Coast', 'Coast', 'Highway', 'Coast', 'OpenCountry', 'Highway', 'Suburb', 'Suburb', 'Highway', 'Highway', 'Highway', 'Forest', 'OpenCountry', 'InsideCity', 'Highway', 'Highway', 'Highway', 'OpenCountry', 'OpenCountry', 'Coast', 'OpenCountry', 'Highway', 'Highway', 'Coast', 'Highway', 'InsideCity', 'Coast', 'Bedroom', 'OpenCountry', 'Highway', 'Suburb', 'Coast', 'Highway', 'Highway', 'Highway', 'Coast', 'Highway', 'OpenCountry', 'Coast', 'Coast', 'Forest', 'Coast', 'Coast', 'Coast', 'Mountain', 'Forest', 'Highway', 'Highway', 'Coast', 'OpenCountry', 'Highway', 'Forest', 'Coast', 'Industrial', 'Coast', 'Mountain', 'Coast', 'OpenCountry', 'Highway', 'OpenCountry', 'Coast', 'Highway', 'Mountain', 'Highway', 'OpenCountry', 'Coast', 'Mountain', 'Bedroom', 'Coast', 'Coast', 'Coast', 'Highway', 'Bedroom', 'Street', 'Coast', 'Coast', 'LivingRoom', 'Coast', 'Coast', 'Mountain', 'Mountain', 'OpenCountry', 'OpenCountry', 'Mountain', 'Mountain', 'Coast', 'Coast', 'LivingRoom', 'InsideCity', 'Coast', 'Mountain', 'Coast', 'OpenCountry', 'Kitchen', 'Industrial', 'Bedroom', 'Highway', 'Forest', 'Mountain', 'Kitchen', 'Highway', 'Coast', 'Coast', 'Coast', 'Suburb', 'Coast', 'Mountain', 'Coast', 'Coast', 'Coast', 'OpenCountry', 'Coast', 'Highway', 'Mountain', 'Coast', 'Highway', 'InsideCity', 'Coast', 'Bedroom', 'OpenCountry', 'Mountain', 'InsideCity', 'Highway', 'Mountain', 'Industrial', 'Bedroom', 'Coast', 'Coast', 'Coast', 'Highway', 'OpenCountry', 'Street', 'Highway', 'OpenCountry', 'OpenCountry', 'Coast', 'Mountain', 'Mountain', 'Coast', 'Coast', 'OpenCountry', 'Office', 'OpenCountry', 'Bedroom', 'Coast', 'Kitchen', 'Coast', 'Forest', 'Coast', 'Suburb', 'Street', 'Industrial', 'Coast', 'Bedroom', 'Street', 'Forest', 'Forest', 'Highway', 'Coast', 'Coast', 'Suburb', 'Street', 'Bedroom', 'OpenCountry', 'LivingRoom', 'Street', 'OpenCountry', 'Forest', 'Coast', 'Kitchen', 'Bedroom', 'OpenCountry', 'Coast', 'Coast', 'Coast', 'Coast', 'Coast', 'Mountain', 'Bedroom', 'InsideCity', 'Bedroom', 'InsideCity', 'Coast', 'InsideCity', 'Forest', 'LivingRoom', 'Bedroom', 'Bedroom', 'Coast', 'Street', 'Coast', 'Industrial', 'Street', 'Street', 'Street', 'Industrial', 'Office', 'Street', 'Coast', 'Coast', 'Mountain', 'InsideCity', 'InsideCity', 'OpenCountry', 'Suburb', 'InsideCity', 'Suburb', 'Street', 'Highway', 'OpenCountry', 'LivingRoom', 'OpenCountry', 'Coast', 'Highway', 'Coast', 'Forest', 'Kitchen', 'Coast', 'Kitchen', 'Street', 'Office', 'Street', 'InsideCity', 'Mountain', 'Bedroom', 'Coast', 'Street', 'Industrial', 'Bedroom', 'OpenCountry', 'Coast', 'OpenCountry', 'Bedroom', 'Forest', 'OpenCountry', 'Office', 'Bedroom', 'Coast', 'Coast', 'Street', 'Mountain', 'Coast']\n"
     ]
    }
   ],
   "source": [
    "size = 32\n",
    "k = 5\n",
    "\n",
    "train_image_feats = get_tiny_images(train_image_arrays, size)\n",
    "test_image_feats = get_tiny_images(test_image_arrays, size)\n",
    "\n",
    "\n",
    "print('Using NEAREST NEIGHBOR classifier to predict test set categories')\n",
    "predicted_labels = sc.nearest_neighbor_classify(train_image_feats, train_labels, test_image_feats, k)"
   ]
  },
  {
   "cell_type": "code",
   "execution_count": 10,
   "metadata": {
    "pycharm": {
     "is_executing": true
    },
    "scrolled": false
   },
   "outputs": [
    {
     "data": {
      "image/png": "[encoded data removed]",
      "text/plain": [
       "<Figure size 432x288 with 1 Axes>"
      ]
     },
     "metadata": {
      "needs_background": "light"
     },
     "output_type": "display_data"
    }
   ],
   "source": [
    "show_results(test_labels, categories, abbr_categories,predicted_labels, 'cm.png')"
   ]
  },
  {
   "cell_type": "markdown",
   "metadata": {},
   "source": [
    "## Section 2: Bag of SIFT features with Nearest Neighbor classifier"
   ]
  },
  {
   "cell_type": "markdown",
   "metadata": {},
   "source": [
    "### Section 2a: Represent each image with the Bag of SIFT feature\n",
    "\n",
    "Now we will implement a more advanced feature set to describe our images - SIFT features! To build the SIFT vocabulary for bag of words, you will need to implement the k-means clustering algorithm and utilize it in your build vocabulary function."
   ]
  },
  {
   "cell_type": "markdown",
   "metadata": {},
   "source": [
    "To begin with, we have provided you with a simple visual demo on how kmeans works. No need to write any code yet, run the next cell, and play around with the slider to check the kmeans clustering process. (Credits to teaching staff from CS6601; thank you Prof. Starner!)"
   ]
  },
  {
   "cell_type": "code",
   "execution_count": 8,
   "metadata": {
    "pycharm": {
     "is_executing": true
    }
   },
   "outputs": [
    {
     "name": "stdout",
     "output_type": "stream",
     "text": [
      "<numpy.lib.npyio.NpzFile object at 0x000001F3FADC2470>\n"
     ]
    },
    {
     "data": {
      "application/vnd.jupyter.widget-view+json": {
       "model_id": "fc699c94f8be4df1924433d49a86a308",
       "version_major": 2,
       "version_minor": 0
      },
      "text/plain": [
       "interactive(children=(IntSlider(value=5, description='i', max=10, min=1), Output()), _dom_classes=('widget-int…"
      ]
     },
     "metadata": {},
     "output_type": "display_data"
    }
   ],
   "source": [
    "from ipywidgets import *\n",
    "import matplotlib.pyplot as plt\n",
    "K = 3\n",
    "data = np.load('../proj4_unit_tests/test_data/kmeans.npz', allow_pickle=True)\n",
    "print(data)\n",
    "X = data['X']\n",
    "y = data['y']\n",
    "means_history = data['means']\n",
    "clusters_history = data['clu']\n",
    "\n",
    "# This is an interactive cell to see the progress of training your K-means algorithm.\n",
    "# Feel free to improve the visualization code and share it with your classmates on Piazza\n",
    "def get_cluster(i):\n",
    "    clusters = clusters_history[i] # Get the clusters from K-means' i-th iteration\n",
    "    plt.figure(None, figsize=(15,6)) # Set the plot size\n",
    "    plt.suptitle('Drag the slider to see the algorthm training progress')\n",
    "    ax1=plt.subplot(1, 2, 1)\n",
    "    ax1.set_title('K-means clsuters - step %d' % i)\n",
    "    for k in range(K):\n",
    "        plt.plot(X[clusters==k,0], X[clusters==k,1], '.')\n",
    "    # Just to get a flavour of how the data looks like\n",
    "    ax2=plt.subplot(1, 2, 2)\n",
    "    ax2.set_title('Ground truth clusters')\n",
    "    for i in np.unique(y):\n",
    "        ax2.plot(X[y==i,0],X[y==i,1],'.')\n",
    "\n",
    "    plt.show()\n",
    "\n",
    "interactive(get_cluster, i=(1,len(clusters_history)-1,1))"
   ]
  },
  {
   "cell_type": "code",
   "execution_count": 9,
   "metadata": {
    "pycharm": {
     "is_executing": true
    }
   },
   "outputs": [
    {
     "name": "stdout",
     "output_type": "stream",
     "text": [
      "test_kmeans_2_classes_1d_features()\u001b[32m\"Correct\"\u001b[0m\n",
      "test_kmeans_5_classes_2d_features()\u001b[32m\"Correct\"\u001b[0m\n",
      "test_kmeans_2_classes_1d_features()\u001b[32m\"Correct\"\u001b[0m\n",
      "test_kmeans_5_classes_2d_features()\u001b[32m\"Correct\"\u001b[0m\n"
     ]
    }
   ],
   "source": [
    "print(\"test_kmeans_2_classes_1d_features()\" + verify(test_kmeans_2_classes_1d_features))\n",
    "print(\"test_kmeans_5_classes_2d_features()\" + verify(test_kmeans_5_classes_2d_features))\n",
    "\n",
    "print(\"test_kmeans_2_classes_1d_features()\" + verify(test_build_vocabulary_shape))\n",
    "print(\"test_kmeans_5_classes_2d_features()\" + verify(test_build_vocabulary_values))"
   ]
  },
  {
   "cell_type": "markdown",
   "metadata": {},
   "source": [
    "To create a new vocabulary, make sure `vocab_filename` is different than the old vocabulary, or delete the old one.\n",
    "\n",
    "**Important: note the logic for this cell: if the vocab file is present in the directory, then we'll proceed directly to getting SIFT representations; otherwise the vocab is built from scratch. The first time you run the cell, expect running time to be at least 10 minutes, as we are building the vocab as well as getting SIFT representations at the same time. Hence, make sure that you have passed all unit tests for this section before proceeding with the following cell!**"
   ]
  },
  {
   "cell_type": "code",
   "execution_count": 10,
   "metadata": {
    "pycharm": {
     "is_executing": true
    },
    "scrolled": true
   },
   "outputs": [
    {
     "name": "stdout",
     "output_type": "stream",
     "text": [
      "Using the BAG-OF-SIFT representation for images\n"
     ]
    }
   ],
   "source": [
    "print('Using the BAG-OF-SIFT representation for images')\n",
    "\n",
    "vocab_size = 50  # Larger values will work better (to a point) but be much slower to compute\n",
    "stride = 20\n",
    "max_iter = 10\n",
    "vocab_filename = \"../data/vocab.pkl\"\n",
    "\n",
    "if not osp.isfile(vocab_filename):\n",
    "    # Construct the vocabulary\n",
    "    print('No existing visual word vocabulary found. Computing one from training images')\n",
    "    vocab = sc.build_vocabulary(train_image_arrays, vocab_size, stride, max_iter)\n",
    "    with open(vocab_filename, 'wb') as f:\n",
    "        pickle.dump(vocab, f)\n",
    "        print('{:s} saved'.format(vocab_filename))\n",
    "else:\n",
    "    with open(vocab_filename, 'rb') as f:\n",
    "        vocab = pickle.load(f)"
   ]
  },
  {
   "cell_type": "markdown",
   "metadata": {},
   "source": [
    "Now that we have built our vocabulary of visual words, we will use it to process our training and testing images.\n",
    "\n",
    "You will need to implement two analagous functions to run the cell below\n",
    "\n",
    "**Note: running on the full dataset will take some time**"
   ]
  },
  {
   "cell_type": "code",
   "execution_count": 11,
   "metadata": {
    "pycharm": {
     "is_executing": true
    }
   },
   "outputs": [
    {
     "name": "stdout",
     "output_type": "stream",
     "text": [
      "test_kmeans_quantize_exact_matches()\u001b[32m\"Correct\"\u001b[0m\n",
      "test_kmeans_quantize_noisy_continuous()\u001b[32m\"Correct\"\u001b[0m\n",
      "test_get_bags_of_sifts()\u001b[32m\"Correct\"\u001b[0m\n"
     ]
    }
   ],
   "source": [
    "print(\"test_kmeans_quantize_exact_matches()\" + verify(test_kmeans_quantize_exact_matches))\n",
    "print(\"test_kmeans_quantize_noisy_continuous()\" + verify(test_kmeans_quantize_noisy_continuous))\n",
    "\n",
    "print(\"test_get_bags_of_sifts()\" + verify(test_get_bags_of_sifts))"
   ]
  },
  {
   "cell_type": "code",
   "execution_count": 12,
   "metadata": {
    "pycharm": {
     "is_executing": true
    },
    "scrolled": true
   },
   "outputs": [],
   "source": [
    "# This may take a long time to run depending on stride. \n",
    "# You may want to save the features for faster experimentation.\n",
    "\n",
    "bags_of_sift_stride = 5\n",
    "train_image_feats = sc.get_bags_of_sifts(train_image_arrays, vocab, bags_of_sift_stride)\n",
    "test_image_feats = sc.get_bags_of_sifts(test_image_arrays, vocab, bags_of_sift_stride)"
   ]
  },
  {
   "cell_type": "markdown",
   "metadata": {},
   "source": [
    "### Section 2b: Classify each test image by training and using the Nearest Neighbor classifier"
   ]
  },
  {
   "cell_type": "code",
   "execution_count": 13,
   "metadata": {
    "pycharm": {
     "is_executing": true
    }
   },
   "outputs": [
    {
     "name": "stdout",
     "output_type": "stream",
     "text": [
      "Using NEAREST NEIGHBOR classifier to predict test set categories\n",
      "['Kitchen', 'Kitchen', 'LivingRoom', 'Bedroom', 'LivingRoom', 'Bedroom', 'Bedroom', 'Kitchen', 'Kitchen', 'Office', 'Office', 'Kitchen', 'Office', 'LivingRoom', 'Bedroom', 'Office', 'Kitchen', 'Bedroom', 'LivingRoom', 'Kitchen', 'Kitchen', 'Bedroom', 'Office', 'Industrial', 'Office', 'InsideCity', 'Bedroom', 'InsideCity', 'Kitchen', 'Bedroom', 'Office', 'Kitchen', 'Industrial', 'Bedroom', 'Kitchen', 'Bedroom', 'Bedroom', 'LivingRoom', 'Kitchen', 'Bedroom', 'Bedroom', 'Kitchen', 'Office', 'Kitchen', 'Kitchen', 'Kitchen', 'Industrial', 'Bedroom', 'InsideCity', 'Bedroom', 'InsideCity', 'LivingRoom', 'Office', 'Kitchen', 'Industrial', 'Street', 'Kitchen', 'LivingRoom', 'InsideCity', 'Kitchen', 'LivingRoom', 'Bedroom', 'Bedroom', 'Office', 'Kitchen', 'LivingRoom', 'Bedroom', 'Kitchen', 'Kitchen', 'Kitchen', 'Store', 'Industrial', 'Bedroom', 'Bedroom', 'Kitchen', 'Office', 'Bedroom', 'LivingRoom', 'Bedroom', 'Bedroom', 'Bedroom', 'Kitchen', 'Kitchen', 'Industrial', 'Kitchen', 'LivingRoom', 'Kitchen', 'Bedroom', 'Bedroom', 'Kitchen', 'Kitchen', 'Bedroom', 'Kitchen', 'Kitchen', 'LivingRoom', 'Kitchen', 'Bedroom', 'Kitchen', 'Store', 'Bedroom', 'Kitchen', 'LivingRoom', 'InsideCity', 'Kitchen', 'Bedroom', 'Street', 'Industrial', 'Store', 'Industrial', 'Store', 'Industrial', 'Highway', 'Bedroom', 'Highway', 'InsideCity', 'LivingRoom', 'Bedroom', 'Bedroom', 'Store', 'InsideCity', 'Forest', 'Mountain', 'Forest', 'Forest', 'Forest', 'Industrial', 'InsideCity', 'InsideCity', 'OpenCountry', 'Street', 'Store', 'Industrial', 'Store', 'Industrial', 'Forest', 'Store', 'Store', 'Suburb', 'Kitchen', 'LivingRoom', 'Store', 'Store', 'Bedroom', 'Kitchen', 'Bedroom', 'Kitchen', 'InsideCity', 'Store', 'Store', 'InsideCity', 'Kitchen', 'LivingRoom', 'Kitchen', 'Kitchen', 'LivingRoom', 'Industrial', 'InsideCity', 'LivingRoom', 'Suburb', 'InsideCity', 'Store', 'Industrial', 'Suburb', 'Kitchen', 'InsideCity', 'Industrial', 'Store', 'Store', 'Industrial', 'Store', 'Bedroom', 'TallBuilding', 'Industrial', 'Store', 'Bedroom', 'Bedroom', 'Bedroom', 'Store', 'InsideCity', 'Store', 'Forest', 'Store', 'InsideCity', 'InsideCity', 'OpenCountry', 'Store', 'Suburb', 'Store', 'LivingRoom', 'Store', 'Store', 'Mountain', 'Kitchen', 'Store', 'LivingRoom', 'Bedroom', 'Store', 'Kitchen', 'Industrial', 'Office', 'Industrial', 'Bedroom', 'LivingRoom', 'Bedroom', 'Office', 'Bedroom', 'Industrial', 'LivingRoom', 'Kitchen', 'LivingRoom', 'LivingRoom', 'Highway', 'TallBuilding', 'Bedroom', 'Bedroom', 'LivingRoom', 'Bedroom', 'LivingRoom', 'Kitchen', 'InsideCity', 'Street', 'LivingRoom', 'LivingRoom', 'Bedroom', 'LivingRoom', 'LivingRoom', 'Office', 'Bedroom', 'Bedroom', 'Mountain', 'Kitchen', 'Kitchen', 'Bedroom', 'Kitchen', 'Street', 'LivingRoom', 'Bedroom', 'Bedroom', 'Bedroom', 'Bedroom', 'Street', 'Store', 'Bedroom', 'Bedroom', 'Industrial', 'Bedroom', 'InsideCity', 'Kitchen', 'Mountain', 'Bedroom', 'InsideCity', 'Bedroom', 'Bedroom', 'Kitchen', 'Bedroom', 'LivingRoom', 'Bedroom', 'Office', 'Bedroom', 'Kitchen', 'Bedroom', 'Kitchen', 'Industrial', 'Bedroom', 'Office', 'Bedroom', 'Bedroom', 'Bedroom', 'LivingRoom', 'Kitchen', 'Industrial', 'Kitchen', 'Store', 'Suburb', 'Street', 'Mountain', 'Bedroom', 'Kitchen', 'LivingRoom', 'Bedroom', 'LivingRoom', 'Office', 'Office', 'Bedroom', 'Bedroom', 'Bedroom', 'Office', 'Industrial', 'Bedroom', 'LivingRoom', 'Bedroom', 'Kitchen', 'LivingRoom', 'Bedroom', 'LivingRoom', 'Bedroom', 'Highway', 'Bedroom', 'Office', 'Kitchen', 'LivingRoom', 'LivingRoom', 'LivingRoom', 'Office', 'Kitchen', 'Industrial', 'Office', 'InsideCity', 'Bedroom', 'LivingRoom', 'Store', 'Bedroom', 'Store', 'Industrial', 'Kitchen', 'Bedroom', 'Bedroom', 'TallBuilding', 'Industrial', 'Office', 'LivingRoom', 'Kitchen', 'LivingRoom', 'Kitchen', 'LivingRoom', 'LivingRoom', 'Bedroom', 'Bedroom', 'LivingRoom', 'Bedroom', 'LivingRoom', 'LivingRoom', 'Office', 'Office', 'Kitchen', 'Kitchen', 'InsideCity', 'Kitchen', 'Industrial', 'Kitchen', 'Kitchen', 'Office', 'Kitchen', 'Kitchen', 'Office', 'Office', 'LivingRoom', 'Kitchen', 'Bedroom', 'Office', 'Kitchen', 'Industrial', 'LivingRoom', 'Bedroom', 'Office', 'Industrial', 'InsideCity', 'Kitchen', 'Bedroom', 'Kitchen', 'Office', 'InsideCity', 'Kitchen', 'Office', 'Bedroom', 'Bedroom', 'Bedroom', 'LivingRoom', 'Bedroom', 'LivingRoom', 'Industrial', 'InsideCity', 'LivingRoom', 'Office', 'LivingRoom', 'Kitchen', 'Kitchen', 'Kitchen', 'Bedroom', 'Bedroom', 'Office', 'Office', 'InsideCity', 'Industrial', 'Office', 'LivingRoom', 'Bedroom', 'Bedroom', 'LivingRoom', 'LivingRoom', 'Kitchen', 'Store', 'LivingRoom', 'Store', 'InsideCity', 'Office', 'Office', 'LivingRoom', 'Kitchen', 'Kitchen', 'LivingRoom', 'Office', 'Bedroom', 'Office', 'Office', 'Office', 'Bedroom', 'Bedroom', 'Office', 'Office', 'Office', 'Office', 'Office', 'Kitchen', 'LivingRoom', 'Office', 'Kitchen', 'Kitchen', 'Industrial', 'Office', 'Bedroom', 'Office', 'Kitchen', 'Office', 'Bedroom', 'Office', 'Bedroom', 'Bedroom', 'Office', 'Office', 'Bedroom', 'Bedroom', 'Office', 'Kitchen', 'Office', 'LivingRoom', 'Kitchen', 'Office', 'Kitchen', 'Office', 'LivingRoom', 'Office', 'Office', 'Office', 'Kitchen', 'LivingRoom', 'Office', 'Kitchen', 'Office', 'Office', 'Bedroom', 'Office', 'Office', 'Office', 'Kitchen', 'Office', 'Office', 'Office', 'Bedroom', 'Bedroom', 'Kitchen', 'Office', 'Office', 'Kitchen', 'Bedroom', 'Office', 'Kitchen', 'Office', 'Suburb', 'Office', 'LivingRoom', 'Office', 'Office', 'Office', 'Office', 'Office', 'Bedroom', 'InsideCity', 'Office', 'Office', 'Bedroom', 'Office', 'Office', 'Bedroom', 'LivingRoom', 'Office', 'Suburb', 'Office', 'Office', 'Office', 'Kitchen', 'LivingRoom', 'Bedroom', 'Highway', 'Bedroom', 'Office', 'Kitchen', 'Office', 'Office', 'Office', 'Mountain', 'Suburb', 'Store', 'Forest', 'LivingRoom', 'Kitchen', 'Forest', 'Bedroom', 'Industrial', 'Industrial', 'Mountain', 'Industrial', 'LivingRoom', 'TallBuilding', 'Highway', 'OpenCountry', 'TallBuilding', 'Suburb', 'Suburb', 'Forest', 'OpenCountry', 'Industrial', 'Forest', 'Suburb', 'Suburb', 'Street', 'Kitchen', 'TallBuilding', 'Industrial', 'Suburb', 'Kitchen', 'Mountain', 'InsideCity', 'Store', 'Forest', 'Store', 'Highway', 'Industrial', 'Bedroom', 'LivingRoom', 'Highway', 'Highway', 'Coast', 'Store', 'LivingRoom', 'InsideCity', 'Forest', 'Industrial', 'LivingRoom', 'Store', 'LivingRoom', 'Industrial', 'Bedroom', 'Industrial', 'Coast', 'InsideCity', 'Coast', 'Industrial', 'InsideCity', 'Industrial', 'Suburb', 'Street', 'Industrial', 'Street', 'LivingRoom', 'TallBuilding', 'OpenCountry', 'Kitchen', 'Forest', 'Highway', 'OpenCountry', 'LivingRoom', 'Suburb', 'Forest', 'Bedroom', 'Highway', 'Industrial', 'Store', 'Street', 'Highway', 'Mountain', 'Store', 'Street', 'Mountain', 'Industrial', 'InsideCity', 'Suburb', 'Industrial', 'Street', 'Industrial', 'InsideCity', 'Bedroom', 'Store', 'Bedroom', 'Industrial', 'Store', 'Kitchen', 'Forest', 'Industrial', 'Forest', 'Coast', 'Suburb', 'Suburb', 'InsideCity', 'Suburb', 'Suburb', 'Suburb', 'Suburb', 'Suburb', 'Suburb', 'Industrial', 'Suburb', 'Highway', 'Suburb', 'Suburb', 'InsideCity', 'Suburb', 'Suburb', 'Suburb', 'Store', 'Suburb', 'Suburb', 'Suburb', 'Suburb', 'Suburb', 'Suburb', 'Suburb', 'Store', 'Suburb', 'Suburb', 'Mountain', 'Suburb', 'InsideCity', 'Suburb', 'Suburb', 'Suburb', 'Suburb', 'LivingRoom', 'Suburb', 'Suburb', 'Bedroom', 'Suburb', 'Suburb', 'Suburb', 'Suburb', 'Suburb', 'Suburb', 'Street', 'Suburb', 'Suburb', 'Highway', 'Suburb', 'Suburb', 'Highway', 'Store', 'Suburb', 'Suburb', 'Suburb', 'LivingRoom', 'Coast', 'Industrial', 'Suburb', 'Suburb', 'Industrial', 'Suburb', 'Suburb', 'Highway', 'LivingRoom', 'Suburb', 'Industrial', 'Street', 'Coast', 'Suburb', 'Suburb', 'Suburb', 'Store', 'Suburb', 'Suburb', 'Suburb', 'Industrial', 'Suburb', 'Suburb', 'Suburb', 'Suburb', 'Suburb', 'Suburb', 'LivingRoom', 'Suburb', 'Suburb', 'Highway', 'Industrial', 'Suburb', 'Industrial', 'Suburb', 'Suburb', 'Highway', 'Suburb', 'Suburb', 'Street', 'LivingRoom', 'Street', 'Industrial', 'LivingRoom', 'Store', 'InsideCity', 'InsideCity', 'Street', 'Store', 'InsideCity', 'InsideCity', 'Industrial', 'Bedroom', 'Industrial', 'InsideCity', 'InsideCity', 'Industrial', 'Suburb', 'Suburb', 'Bedroom', 'Store', 'InsideCity', 'Street', 'OpenCountry', 'Coast', 'InsideCity', 'Kitchen', 'Industrial', 'InsideCity', 'Industrial', 'InsideCity', 'InsideCity', 'InsideCity', 'Bedroom', 'Highway', 'InsideCity', 'LivingRoom', 'Forest', 'Industrial', 'InsideCity', 'Kitchen', 'InsideCity', 'Industrial', 'InsideCity', 'InsideCity', 'Kitchen', 'Industrial', 'Street', 'Industrial', 'InsideCity', 'Industrial', 'Street', 'Industrial', 'InsideCity', 'Industrial', 'InsideCity', 'Store', 'Suburb', 'InsideCity', 'InsideCity', 'InsideCity', 'Suburb', 'Bedroom', 'Industrial', 'Industrial', 'InsideCity', 'Industrial', 'Industrial', 'Industrial', 'Industrial', 'InsideCity', 'Kitchen', 'Kitchen', 'Highway', 'InsideCity', 'Industrial', 'InsideCity', 'Street', 'Industrial', 'Industrial', 'Store', 'Industrial', 'Industrial', 'InsideCity', 'InsideCity', 'Bedroom', 'InsideCity', 'InsideCity', 'InsideCity', 'InsideCity', 'Industrial', 'TallBuilding', 'InsideCity', 'Bedroom', 'Industrial', 'Industrial', 'Kitchen', 'Industrial', 'InsideCity', 'Industrial', 'Bedroom', 'Bedroom', 'OpenCountry', 'TallBuilding', 'Street', 'Suburb', 'TallBuilding', 'TallBuilding', 'TallBuilding', 'TallBuilding', 'TallBuilding', 'Store', 'TallBuilding', 'InsideCity', 'Store', 'Industrial', 'TallBuilding', 'Street', 'Industrial', 'Industrial', 'InsideCity', 'Store', 'InsideCity', 'Mountain', 'Industrial', 'Street', 'TallBuilding', 'TallBuilding', 'TallBuilding', 'Industrial', 'TallBuilding', 'TallBuilding', 'Kitchen', 'Kitchen', 'TallBuilding', 'Industrial', 'TallBuilding', 'Industrial', 'Street', 'Bedroom', 'Kitchen', 'Bedroom', 'TallBuilding', 'InsideCity', 'InsideCity', 'TallBuilding', 'LivingRoom', 'TallBuilding', 'Street', 'Street', 'Highway', 'InsideCity', 'TallBuilding', 'TallBuilding', 'Bedroom', 'Kitchen', 'TallBuilding', 'InsideCity', 'Street', 'Industrial', 'Forest', 'TallBuilding', 'Forest', 'TallBuilding', 'Street', 'Street', 'Street', 'Bedroom', 'Kitchen', 'Street', 'TallBuilding', 'TallBuilding', 'InsideCity', 'Bedroom', 'Industrial', 'Industrial', 'InsideCity', 'OpenCountry', 'Store', 'Industrial', 'Store', 'Industrial', 'TallBuilding', 'Forest', 'Street', 'Industrial', 'Mountain', 'Street', 'TallBuilding', 'Industrial', 'Street', 'TallBuilding', 'LivingRoom', 'Mountain', 'OpenCountry', 'InsideCity', 'Street', 'InsideCity', 'Forest', 'Street', 'TallBuilding', 'Industrial', 'Street', 'Industrial', 'Industrial', 'Bedroom', 'Street', 'Street', 'Street', 'Industrial', 'Street', 'Kitchen', 'Suburb', 'Street', 'Suburb', 'TallBuilding', 'Street', 'Bedroom', 'Industrial', 'Street', 'InsideCity', 'Kitchen', 'LivingRoom', 'Street', 'LivingRoom', 'Kitchen', 'Street', 'Mountain', 'Street', 'Industrial', 'Suburb', 'Store', 'Forest', 'Street', 'Suburb', 'Street', 'Industrial', 'Street', 'Suburb', 'Street', 'Street', 'Suburb', 'Street', 'Industrial', 'Store', 'Street', 'Street', 'Street', 'Street', 'Highway', 'Street', 'Street', 'Suburb', 'Street', 'Industrial', 'Street', 'Industrial', 'Suburb', 'InsideCity', 'Street', 'Street', 'Industrial', 'Store', 'Street', 'Highway', 'InsideCity', 'Forest', 'Office', 'Street', 'InsideCity', 'Bedroom', 'Industrial', 'Street', 'Industrial', 'Mountain', 'Highway', 'Street', 'Street', 'Store', 'Forest', 'InsideCity', 'Street', 'InsideCity', 'Street', 'Street', 'Street', 'Store', 'Street', 'Street', 'Street', 'Street', 'Kitchen', 'Street', 'Industrial', 'Store', 'Street', 'Street', 'Industrial', 'Street', 'LivingRoom', 'Street', 'Highway', 'Highway', 'Highway', 'Highway', 'Mountain', 'Mountain', 'Highway', 'Highway', 'Highway', 'Highway', 'Highway', 'Highway', 'Coast', 'Highway', 'Industrial', 'Highway', 'Highway', 'Highway', 'Coast', 'Suburb', 'Highway', 'Highway', 'Highway', 'Highway', 'Highway', 'Suburb', 'Highway', 'Highway', 'Highway', 'Highway', 'Forest', 'Industrial', 'Industrial', 'Highway', 'Suburb', 'Highway', 'Highway', 'Highway', 'Highway', 'Highway', 'Highway', 'Highway', 'Highway', 'Coast', 'Highway', 'Highway', 'Highway', 'Highway', 'Bedroom', 'Highway', 'Highway', 'Highway', 'Highway', 'Highway', 'Highway', 'Highway', 'Highway', 'Highway', 'Highway', 'Highway', 'Industrial', 'OpenCountry', 'Highway', 'Highway', 'Highway', 'Highway', 'Highway', 'Highway', 'Highway', 'Highway', 'Coast', 'Industrial', 'Suburb', 'Highway', 'Forest', 'Highway', 'Highway', 'Highway', 'Coast', 'Highway', 'Highway', 'Highway', 'Highway', 'Mountain', 'Suburb', 'Highway', 'Coast', 'Coast', 'Highway', 'Highway', 'Highway', 'Highway', 'Highway', 'Coast', 'Highway', 'Bedroom', 'Highway', 'Highway', 'Highway', 'Highway', 'Coast', 'Forest', 'Forest', 'Industrial', 'OpenCountry', 'Coast', 'InsideCity', 'Coast', 'Mountain', 'Forest', 'Forest', 'Mountain', 'Forest', 'Highway', 'Highway', 'OpenCountry', 'Forest', 'Bedroom', 'OpenCountry', 'Highway', 'Suburb', 'Coast', 'OpenCountry', 'Coast', 'Forest', 'OpenCountry', 'OpenCountry', 'Industrial', 'OpenCountry', 'Coast', 'Highway', 'Forest', 'TallBuilding', 'OpenCountry', 'Suburb', 'Forest', 'Industrial', 'OpenCountry', 'OpenCountry', 'Forest', 'Coast', 'Forest', 'OpenCountry', 'Coast', 'OpenCountry', 'InsideCity', 'OpenCountry', 'Forest', 'OpenCountry', 'OpenCountry', 'Coast', 'OpenCountry', 'Coast', 'Coast', 'Forest', 'Mountain', 'OpenCountry', 'OpenCountry', 'Forest', 'Mountain', 'Coast', 'Highway', 'Coast', 'OpenCountry', 'Coast', 'OpenCountry', 'InsideCity', 'Highway', 'Industrial', 'Forest', 'Suburb', 'Coast', 'OpenCountry', 'OpenCountry', 'Mountain', 'OpenCountry', 'Highway', 'Forest', 'OpenCountry', 'Coast', 'Coast', 'Mountain', 'OpenCountry', 'Coast', 'Mountain', 'Forest', 'Coast', 'OpenCountry', 'OpenCountry', 'Highway', 'Coast', 'Highway', 'Coast', 'Forest', 'Industrial', 'Forest', 'OpenCountry', 'OpenCountry', 'OpenCountry', 'Forest', 'OpenCountry', 'Coast', 'Mountain', 'Coast', 'Coast', 'Coast', 'Coast', 'Coast', 'Coast', 'OpenCountry', 'Coast', 'Coast', 'Highway', 'Coast', 'OpenCountry', 'Coast', 'Highway', 'Store', 'Coast', 'Coast', 'Coast', 'Coast', 'Coast', 'Office', 'Coast', 'OpenCountry', 'Coast', 'Coast', 'Coast', 'Coast', 'OpenCountry', 'Coast', 'Coast', 'Highway', 'Highway', 'Coast', 'OpenCountry', 'Coast', 'Coast', 'Coast', 'Coast', 'Coast', 'Highway', 'Coast', 'Highway', 'Coast', 'Coast', 'OpenCountry', 'Coast', 'Coast', 'Highway', 'Coast', 'Coast', 'Coast', 'OpenCountry', 'Coast', 'Coast', 'Highway', 'Highway', 'Highway', 'Coast', 'Coast', 'Coast', 'Highway', 'Highway', 'Coast', 'Coast', 'OpenCountry', 'Coast', 'Coast', 'Highway', 'Coast', 'Coast', 'Coast', 'Highway', 'Highway', 'Bedroom', 'Coast', 'Highway', 'Coast', 'Coast', 'Coast', 'Coast', 'Coast', 'Coast', 'Coast', 'Coast', 'Coast', 'OpenCountry', 'Coast', 'Coast', 'Coast', 'Forest', 'Coast', 'Coast', 'Coast', 'Coast', 'OpenCountry', 'Coast', 'Coast', 'Mountain', 'Mountain', 'OpenCountry', 'Mountain', 'Mountain', 'OpenCountry', 'Industrial', 'OpenCountry', 'Mountain', 'Coast', 'Mountain', 'Mountain', 'Coast', 'Street', 'OpenCountry', 'Industrial', 'Highway', 'Forest', 'Mountain', 'LivingRoom', 'Coast', 'Mountain', 'Mountain', 'Mountain', 'Mountain', 'Mountain', 'Mountain', 'Mountain', 'Forest', 'Bedroom', 'Mountain', 'InsideCity', 'Street', 'Forest', 'OpenCountry', 'Highway', 'Highway', 'Forest', 'Mountain', 'Forest', 'Mountain', 'Forest', 'Forest', 'Mountain', 'Coast', 'Mountain', 'OpenCountry', 'Industrial', 'Highway', 'Mountain', 'Highway', 'Mountain', 'Mountain', 'Mountain', 'Mountain', 'Coast', 'Highway', 'Highway', 'Mountain', 'Mountain', 'Mountain', 'Mountain', 'Highway', 'Suburb', 'Bedroom', 'Suburb', 'Highway', 'Suburb', 'Street', 'Coast', 'Mountain', 'Mountain', 'Mountain', 'Suburb', 'Coast', 'Highway', 'OpenCountry', 'Bedroom', 'Highway', 'Highway', 'Highway', 'Suburb', 'Mountain', 'Suburb', 'Mountain', 'Forest', 'Street', 'Mountain', 'OpenCountry', 'Mountain', 'Highway', 'Mountain', 'Bedroom', 'Store', 'Highway', 'Forest', 'Highway', 'Highway', 'Industrial', 'Coast', 'Forest', 'Forest', 'Forest', 'Forest', 'Forest', 'Forest', 'Forest', 'Forest', 'Forest', 'Forest', 'Forest', 'Forest', 'Forest', 'Forest', 'Forest', 'Forest', 'Forest', 'Forest', 'Forest', 'Forest', 'Forest', 'Forest', 'Forest', 'Forest', 'Forest', 'Forest', 'Forest', 'Forest', 'Forest', 'Forest', 'Forest', 'Forest', 'Forest', 'Forest', 'Forest', 'Forest', 'Forest', 'Forest', 'Forest', 'Forest', 'Forest', 'Forest', 'Forest', 'Forest', 'Forest', 'Forest', 'OpenCountry', 'Forest', 'Forest', 'Forest', 'Forest', 'Forest', 'Forest', 'Forest', 'Forest', 'Forest', 'Forest', 'Forest', 'Forest', 'Forest', 'Forest', 'Forest', 'Forest', 'Forest', 'Forest', 'Forest', 'Forest', 'Forest', 'Forest', 'Forest', 'Forest', 'Forest', 'Forest', 'Forest', 'Forest', 'Forest', 'Forest', 'Forest', 'Forest', 'Forest', 'Forest', 'Forest', 'Forest', 'Forest', 'Forest', 'Forest', 'Forest', 'Forest', 'Forest', 'Forest', 'Forest', 'OpenCountry', 'Forest', 'Forest', 'Forest', 'TallBuilding', 'Forest', 'Forest', 'Forest', 'Forest']\n"
     ]
    }
   ],
   "source": [
    "print('Using NEAREST NEIGHBOR classifier to predict test set categories')\n",
    "predicted_categories = sc.nearest_neighbor_classify(train_image_feats, train_labels, test_image_feats, k = 3)"
   ]
  },
  {
   "cell_type": "markdown",
   "metadata": {},
   "source": [
    "### Section 2c: Build a confusion matrix and score the recognition system"
   ]
  },
  {
   "cell_type": "code",
   "execution_count": 14,
   "metadata": {
    "pycharm": {
     "is_executing": true
    },
    "scrolled": true
   },
   "outputs": [
    {
     "data": {
      "image/png": "[encoded data removed]",
      "text/plain": [
       "<Figure size 432x288 with 1 Axes>"
      ]
     },
     "metadata": {
      "needs_background": "light"
     },
     "output_type": "display_data"
    }
   ],
   "source": [
    "show_results(test_labels, categories, abbr_categories, predicted_categories, 'cm.png')"
   ]
  },
  {
   "cell_type": "markdown",
   "metadata": {},
   "source": [
    "## Extra Credits\n",
    "\n",
    "Refer to `PS4.pdf` for additional details.\n",
    "\n",
    "### Part 3.1 Additional Experimentation\n",
    "\n",
    "Experiment with different values of these parameters and report the best results.\n",
    "- `max_iter` in `kmeans()`\n",
    "- `stride` and/or `step_size` in `build_vocabulary()` and `get_bags_of_sifts()`\n",
    "\n",
    "### Part 3.2 Performance\n",
    "\n",
    "Experiment with a different distance metric for kNN and report the accuracy.\n",
    "\n",
    "### Part 3.3 Model\n",
    "\n",
    "Experiment with SVM classifier and report the accuracy if it's above 60%."
   ]
  },
  {
   "cell_type": "markdown",
   "metadata": {},
   "source": [
    "## Conclusion\n",
    "We have seen that a basic classifier as simple as kNN is sufficient to get this classification task done with around 50% accuracy, whereas a linear classifier such as SVM can reach upto 65% accuracy.\n",
    "\n",
    "This shows you how things are done in the pre-deep learning era, and the result is, uh, okay. These days with neural networks, 80% ~ 90% accuracies can be achieved with ease. Nevertheless, these techniques are still used for different kinds of applications and also for the analysis of the modern deep-learning based methods."
   ]
  },
  {
   "cell_type": "code",
   "execution_count": null,
   "metadata": {},
   "outputs": [],
   "source": []
  }
 ],
 "metadata": {
  "kernelspec": {
   "display_name": "Python 3",
   "language": "python",
   "name": "python3"
  },
  "language_info": {
   "codemirror_mode": {
    "name": "ipython",
    "version": 3
   },
   "file_extension": ".py",
   "mimetype": "text/x-python",
   "name": "python",
   "nbconvert_exporter": "python",
   "pygments_lexer": "ipython3",
   "version": "3.6.13"
  },
  "pycharm": {
   "stem_cell": {
    "cell_type": "raw",
    "metadata": {
     "collapsed": false
    },
    "source": []
   }
  },
  "widgets": {
   "state": {},
   "version": "1.1.2"
  }
 },
 "nbformat": 4,
 "nbformat_minor": 2
}
